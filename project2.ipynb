{
  "cells": [
    {
      "attachments": {},
      "cell_type": "markdown",
      "metadata": {
        "colab_type": "text",
        "id": "view-in-github"
      },
      "source": [
        "<a href=\"https://colab.research.google.com/github/osuke2/homework/blob/main/project2.ipynb\" target=\"_parent\"><img src=\"https://colab.research.google.com/assets/colab-badge.svg\" alt=\"Open In Colab\"/></a>"
      ]
    },
    {
      "cell_type": "code",
      "execution_count": null,
      "metadata": {
        "id": "MnHfKLSnE9Fk"
      },
      "outputs": [],
      "source": [
        "import pandas as pd\n",
        "import matplotlib.pyplot as plt\n",
        "\n",
        "pwt1001 = pd.read_stata('https://dataverse.nl/api/access/datafile/354098')\n",
        "\n",
        "data = pwt1001.loc[pwt1001['country'].isin(['France','Germany','Canada','Italy','Japan','United Kingdom','United states'])]\n",
        "[['year', 'countrycode', 'rgdpna', 'rkna',  'emp','avh','labsh','rtfpna']]\n",
        "data = data.loc[(data['year'] >= 1995) & (data['year'] <= 2019)].dropna()\n",
        "\n",
        "data['alpha']=1-data['labsh']\n",
        "data['labor']=data['emp']*data['avh']\n",
        "data['y_n']=data['rgdpna']/data['labor']\n",
        "data['k_n']=data['rkna']/data['labor']\n",
        "\n",
        "data = data.sort_values('year').groupby('countrycode').apply(lambda x: x.assign(\n",
        "    Growthrate=x['rgdpna'].iloc[x]/x['rgdpna'].iloc[x-1]-1,\n",
        "    TFPgrowth=x['rtfpna'].loc[x]/x['rtfpna'].iloc[x-1]-1,\n",
        "    Capitaldeepening=x['alpha']*(x['rkna'].loc[x]/x['rkna'].iloc[x-1]-1)\n",
        "\n",
        ")).reset_index(drop=True).dropna()\n",
        "\n",
        "\n",
        "\n",
        "\n"
      ]
    }
  ],
  "metadata": {
    "colab": {
      "authorship_tag": "ABX9TyOFMjbLDsVkbhG1NdKBW2Hr",
      "include_colab_link": true,
      "provenance": []
    },
    "kernelspec": {
      "display_name": "Python 3",
      "name": "python3"
    },
    "language_info": {
      "name": "python"
    }
  },
  "nbformat": 4,
  "nbformat_minor": 0
}
